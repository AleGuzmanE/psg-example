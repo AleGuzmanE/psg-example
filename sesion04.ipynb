{
 "cells": [
  {
   "cell_type": "code",
   "execution_count": 20,
   "metadata": {},
   "outputs": [
    {
     "name": "stdout",
     "output_type": "stream",
     "text": [
      "Hola, Mundo desde Notebook!\n"
     ]
    }
   ],
   "source": [
    "print (\"Hola, Mundo desde Notebook!\")\n"
   ]
  },
  {
   "cell_type": "code",
   "execution_count": 21,
   "metadata": {},
   "outputs": [
    {
     "name": "stdout",
     "output_type": "stream",
     "text": [
      "Hola, Mundo desde Notebook!\n"
     ]
    }
   ],
   "source": [
    "# Code 01\n",
    "print (\"Hola, Mundo desde Notebook!\")\n"
   ]
  },
  {
   "cell_type": "code",
   "execution_count": 22,
   "metadata": {},
   "outputs": [
    {
     "ename": "SyntaxError",
     "evalue": "invalid syntax (3430763431.py, line 1)",
     "output_type": "error",
     "traceback": [
      "\u001b[1;36m  Cell \u001b[1;32mIn[22], line 1\u001b[1;36m\u001b[0m\n\u001b[1;33m    print(//////////////////////////////////////////////////////////////////)\u001b[0m\n\u001b[1;37m          ^\u001b[0m\n\u001b[1;31mSyntaxError\u001b[0m\u001b[1;31m:\u001b[0m invalid syntax\n"
     ]
    }
   ],
   "source": [
    "print(//////////////////////////////////////////////////////////////////)\n"
   ]
  },
  {
   "cell_type": "code",
   "execution_count": null,
   "metadata": {},
   "outputs": [
    {
     "name": "stdout",
     "output_type": "stream",
     "text": [
      "ccccccccccccccccccccc\n"
     ]
    }
   ],
   "source": [
    "print(\"ccccccccccccccccccccc\")\n"
   ]
  },
  {
   "cell_type": "code",
   "execution_count": null,
   "metadata": {},
   "outputs": [
    {
     "name": "stdout",
     "output_type": "stream",
     "text": [
      "cccccccc\n"
     ]
    }
   ],
   "source": [
    "print(\"cccccccc\")"
   ]
  },
  {
   "cell_type": "code",
   "execution_count": null,
   "metadata": {},
   "outputs": [
    {
     "name": "stdout",
     "output_type": "stream",
     "text": [
      "cccccccccccccccccccccccccccccCccccccccccccccccccccccccccccccccccccccccccccccccccc\n"
     ]
    }
   ],
   "source": [
    "print(\"ccccccccccccccccccccccccccccc\"\n",
    "        \"Cccccccccccccccccccccccc\"\n",
    "\"cccccccccccccccccccccccccccc\")\n",
    "\n",
    "\n"
   ]
  },
  {
   "cell_type": "code",
   "execution_count": null,
   "metadata": {},
   "outputs": [
    {
     "name": "stdout",
     "output_type": "stream",
     "text": [
      "      *\n",
      "     ***\n",
      "    *****\n",
      "   *******\n",
      "  *********\n",
      " ***********\n",
      "     | |    \n",
      "     | |     \n"
     ]
    }
   ],
   "source": [
    "print(\"      *\")\n",
    "print(\"     ***\")\n",
    "print(\"    *****\")\n",
    "print(\"   *******\")\n",
    "print(\"  *********\")\n",
    "print(\" ***********\")\n",
    "print(\"     | |    \")\n",
    "print(\"     | |     \")\n"
   ]
  },
  {
   "cell_type": "code",
   "execution_count": null,
   "metadata": {},
   "outputs": [
    {
     "ename": "SyntaxError",
     "evalue": "invalid syntax (2813927612.py, line 1)",
     "output_type": "error",
     "traceback": [
      "\u001b[1;36m  Cell \u001b[1;32mIn[16], line 1\u001b[1;36m\u001b[0m\n\u001b[1;33m    print(+)\u001b[0m\n\u001b[1;37m           ^\u001b[0m\n\u001b[1;31mSyntaxError\u001b[0m\u001b[1;31m:\u001b[0m invalid syntax\n"
     ]
    }
   ],
   "source": [
    "print(+)\n",
    "print(+++++)\n",
    "print(++++++++++)\n",
    "print(|  |)\n"
   ]
  },
  {
   "cell_type": "code",
   "execution_count": null,
   "metadata": {},
   "outputs": [
    {
     "name": "stdout",
     "output_type": "stream",
     "text": [
      "  (  ^^^^^^)\n",
      "^(          )\n",
      "(     ^^^^^^ )\n",
      "^(          )\n",
      "^ (  ^^^^^^)\n",
      "      [ ]\n",
      "      [ ]\n",
      "      [ ]\n",
      "      [ ]\n",
      "      [ ]\n"
     ]
    }
   ],
   "source": [
    "print(\"  (  ^^^^^^)\")\n",
    "print(\"^(          )\")\n",
    "print(\"(     ^^^^^^ )\")\n",
    "print(\"^(          )\")\n",
    "print(\"^ (  ^^^^^^)\")\n",
    "print(\"      [ ]\")\n",
    "print(\"      [ ]\")\n",
    "print(\"      [ ]\")\n",
    "print(\"      [ ]\")\n",
    "print(\"      [ ]\")\n"
   ]
  },
  {
   "cell_type": "code",
   "execution_count": null,
   "metadata": {},
   "outputs": [
    {
     "name": "stdout",
     "output_type": "stream",
     "text": [
      "   -\n",
      "  ---\n",
      " -----\n",
      "-------\n",
      "  --  \n",
      "  --  \n",
      "  --  \n",
      "  --  \n",
      "**********\n"
     ]
    }
   ],
   "source": [
    "print(\"   -\")\n",
    "print(\"  ---\")\n",
    "print(\" -----\")\n",
    "print(\"-------\")\n",
    "print(\"  --  \")\n",
    "print(\"  --  \")\n",
    "print(\"  --  \")\n",
    "print(\"  --  \")\n",
    "print(\"**********\")"
   ]
  },
  {
   "cell_type": "markdown",
   "metadata": {},
   "source": [
    "# Sesión 04\n",
    "- Mi primer notebook\n",
    "- Imprimir árbol\n",
    "- Crear Markdown\n",
    "- Subir a mi repositorio de GitHub\n",
    "- Dibujar un emoji ╰(*°▽°*)╯\n"
   ]
  }
 ],
 "metadata": {
  "kernelspec": {
   "display_name": "Python 3",
   "language": "python",
   "name": "python3"
  },
  "language_info": {
   "codemirror_mode": {
    "name": "ipython",
    "version": 3
   },
   "file_extension": ".py",
   "mimetype": "text/x-python",
   "name": "python",
   "nbconvert_exporter": "python",
   "pygments_lexer": "ipython3",
   "version": "3.12.3"
  }
 },
 "nbformat": 4,
 "nbformat_minor": 2
}
